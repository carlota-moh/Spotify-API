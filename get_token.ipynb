{
 "cells": [
  {
   "cell_type": "code",
   "execution_count": null,
   "metadata": {},
   "outputs": [],
   "source": [
    "from secrets import *\n",
    "import json\n",
    "import base64\n",
    "import requests\n",
    "import re"
   ]
  },
  {
   "cell_type": "markdown",
   "metadata": {},
   "source": [
    "# Request authorization"
   ]
  },
  {
   "cell_type": "code",
   "execution_count": null,
   "metadata": {},
   "outputs": [],
   "source": [
    "auth_url = \"https://accounts.spotify.com/authorize\"\n",
    "redirect_uri = \"https://jpn-top-100.com/callback\"\n",
    "\n",
    "params = {\"client_id\": client_id,\n",
    "          \"response_type\": \"code\",\n",
    "          \"redirect_uri\": redirect_uri,\n",
    "          \"scope\": \"playlist-modify-public\"}\n",
    "\n",
    "response = requests.get(auth_url, params=params) \n",
    "\n",
    "print(\"Please authorize app using this URL: \" + response.url)\n",
    "redirect_response = input(\"\\n\\nPaste the URL you are being redirected to here: \")"
   ]
  },
  {
   "cell_type": "code",
   "execution_count": null,
   "metadata": {
    "scrolled": false
   },
   "outputs": [],
   "source": [
    "code = re.search(\"(?<=code=)\\S+\", redirect_response).group(0)\n",
    "print(code)"
   ]
  },
  {
   "cell_type": "markdown",
   "metadata": {},
   "source": [
    "# Request access token"
   ]
  },
  {
   "cell_type": "code",
   "execution_count": null,
   "metadata": {},
   "outputs": [],
   "source": [
    "token_url = \"https://accounts.spotify.com/api/token\"\n",
    "\n",
    "encoded64 = base64.b64encode((client_id + \":\" + client_secret).encode(\"ascii\")).decode(\"ascii\")\n",
    "\n",
    "params = {\"grant_type\": \"authorization_code\",\n",
    "          \"code\": code,\n",
    "          \"redirect_uri\": redirect_uri}\n",
    "\n",
    "headers = {\n",
    "     \"Content-Type\": \"application/x-www-form-urlencoded\",\n",
    "     \"Authorization\": \"Basic \" + encoded64\n",
    "}\n",
    "\n",
    "response = requests.post(token_url, params=params, headers=headers)\n",
    "\n",
    "print(response.status_code)\n",
    "print(response.json())"
   ]
  },
  {
   "cell_type": "code",
   "execution_count": null,
   "metadata": {},
   "outputs": [],
   "source": [
    "token_json = response.json()\n",
    "token = token_json['access_token']\n",
    "\n",
    "print(token)\n",
    "%store token"
   ]
  },
  {
   "cell_type": "markdown",
   "metadata": {},
   "source": [
    "# Refresh token"
   ]
  },
  {
   "cell_type": "code",
   "execution_count": null,
   "metadata": {},
   "outputs": [],
   "source": [
    "refresh_url = \"https://accounts.spotify.com/api/token\"\n",
    "\n",
    "params = {\"grant_type\": \"refresh_token\",\n",
    "          \"refresh_token\": token_json['refresh_token']}\n",
    "\n",
    "\n",
    "headers = {\n",
    "     \"Content-Type\": \"application/x-www-form-urlencoded\",\n",
    "     \"Authorization\": \"Basic \" + encoded64\n",
    "}\n",
    "\n",
    "response = requests.post(token_url, params=params, headers=headers)\n",
    "\n",
    "print(response.status_code)\n",
    "print(response.json())"
   ]
  },
  {
   "cell_type": "code",
   "execution_count": null,
   "metadata": {},
   "outputs": [],
   "source": [
    "token_json = response.json()['access_token']\n",
    "token = token_json['access_token']\n",
    "%store token"
   ]
  }
 ],
 "metadata": {
  "kernelspec": {
   "display_name": "Python 3 (ipykernel)",
   "language": "python",
   "name": "python3"
  },
  "language_info": {
   "codemirror_mode": {
    "name": "ipython",
    "version": 3
   },
   "file_extension": ".py",
   "mimetype": "text/x-python",
   "name": "python",
   "nbconvert_exporter": "python",
   "pygments_lexer": "ipython3",
   "version": "3.10.6 (main, Nov 14 2022, 16:10:14) [GCC 11.3.0]"
  },
  "vscode": {
   "interpreter": {
    "hash": "916dbcbb3f70747c44a77c7bcd40155683ae19c65e1c03b4aa3499c5328201f1"
   }
  }
 },
 "nbformat": 4,
 "nbformat_minor": 2
}
