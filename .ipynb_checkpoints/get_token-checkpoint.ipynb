{
 "cells": [
  {
   "cell_type": "code",
   "execution_count": 5,
   "metadata": {},
   "outputs": [],
   "source": [
    "from secrets import *\n",
    "import json\n",
    "import base64\n",
    "import requests\n",
    "from requests.auth import HTTPBasicAuth\n",
    "import re"
   ]
  },
  {
   "cell_type": "markdown",
   "metadata": {},
   "source": [
    "# Request authorization"
   ]
  },
  {
   "cell_type": "code",
   "execution_count": 24,
   "metadata": {},
   "outputs": [
    {
     "name": "stdout",
     "output_type": "stream",
     "text": [
      "Please authorize app using this URL: https://accounts.spotify.com/es-ES/login?continue=https%3A%2F%2Faccounts.spotify.com%2Fauthorize%3Fscope%3Dplaylist-modify-public%26response_type%3Dcode%26redirect_uri%3Dhttps%253A%252F%252Fjpn-top-100.com%252Fcallback%26client_id%3Dd20f772661044a728a5bd60279c4f6f0\n",
      "\n",
      "\n",
      "Paste the URL you are being redirected to here: https://jpn-top-100.com/callback?code=AQAaHKyFuwCb5Jj4DEtyzrxEbhvrT35DPWHObTCnPCLeMBh5lueueJ-12h3A1RInWqY_e9pi9fD9PeIyWuew3OdRR43h0EX73jgjVMZXudU8hmLsD3wTSu_J1CSmiWxMRFIDnuBsM0dm65MEQlkYzigKK4KWO9IC0z3yaN75VbiPjI-nNCt7S973ywRX2PBJSFTNjWIm6c-tugkw\n"
     ]
    }
   ],
   "source": [
    "auth_url = \"https://accounts.spotify.com/authorize\"\n",
    "redirect_uri = \"https://jpn-top-100.com/callback\"\n",
    "\n",
    "params = {\"client_id\": client_id,\n",
    "          \"response_type\": \"code\",\n",
    "          \"redirect_uri\": redirect_uri,\n",
    "          \"scope\": \"playlist-modify-public\"}\n",
    "\n",
    "response = requests.get(auth_url, params=params) \n",
    "\n",
    "print(\"Please authorize app using this URL: \" + response.url)\n",
    "redirect_response = input(\"\\n\\nPaste the URL you are being redirected to here: \")"
   ]
  },
  {
   "cell_type": "code",
   "execution_count": 25,
   "metadata": {
    "scrolled": false
   },
   "outputs": [
    {
     "name": "stdout",
     "output_type": "stream",
     "text": [
      "AQAaHKyFuwCb5Jj4DEtyzrxEbhvrT35DPWHObTCnPCLeMBh5lueueJ-12h3A1RInWqY_e9pi9fD9PeIyWuew3OdRR43h0EX73jgjVMZXudU8hmLsD3wTSu_J1CSmiWxMRFIDnuBsM0dm65MEQlkYzigKK4KWO9IC0z3yaN75VbiPjI-nNCt7S973ywRX2PBJSFTNjWIm6c-tugkw\n"
     ]
    }
   ],
   "source": [
    "code = re.search(\"(?<=code=)\\S+\", redirect_response).group(0)\n",
    "print(code)"
   ]
  },
  {
   "cell_type": "markdown",
   "metadata": {},
   "source": [
    "# Request access token"
   ]
  },
  {
   "cell_type": "code",
   "execution_count": 26,
   "metadata": {},
   "outputs": [
    {
     "name": "stdout",
     "output_type": "stream",
     "text": [
      "200\n",
      "{'access_token': 'BQCE8uWeb8nBwa-RBugHsDhAILm91lUyV1aiyuYLoNOCT-tzwdfN3qNfeArSPa9Zxm2DM5f5Obkzzncx9p2EbRYlQpZst1jGt-PF7Nbla9AoI4B1trJi5gHkOq6RnMjTwgREMAvfwfasgLVOU0mLO-_AgY1j3EAYbsSJWyVQD_k-G_htG-NE-6c8ByMyF-R1CROkO5Hag2SC5Vk2OVw', 'token_type': 'Bearer', 'expires_in': 3600, 'refresh_token': 'AQBPqyoK9scrWc484L5k0ad5GV6u_6w1J5fN9F-WgqlxUCXWP4ZTHMt_vok4IFUNHhFu8nJVt67j7AA-Bt2LsejDGctKDuqsKohM-y9R8kSZGqUXbRfxeKwPQC0zt4WCWhs', 'scope': 'playlist-modify-public'}\n"
     ]
    }
   ],
   "source": [
    "token_url = \"https://accounts.spotify.com/api/token\"\n",
    "\n",
    "encoded64 = base64.b64encode((client_id + \":\" + client_secret).encode(\"ascii\")).decode(\"ascii\")\n",
    "\n",
    "params = {\"grant_type\": \"authorization_code\",\n",
    "          \"code\": code,\n",
    "          \"redirect_uri\": redirect_uri}\n",
    "\n",
    "headers = {\n",
    "     \"Content-Type\": \"application/x-www-form-urlencoded\",\n",
    "     \"Authorization\": \"Basic \" + encoded64\n",
    "}\n",
    "\n",
    "response = requests.post(token_url, params=params, headers=headers)\n",
    "\n",
    "print(response.status_code)\n",
    "print(response.json())"
   ]
  },
  {
   "cell_type": "code",
   "execution_count": 28,
   "metadata": {},
   "outputs": [
    {
     "name": "stdout",
     "output_type": "stream",
     "text": [
      "BQCE8uWeb8nBwa-RBugHsDhAILm91lUyV1aiyuYLoNOCT-tzwdfN3qNfeArSPa9Zxm2DM5f5Obkzzncx9p2EbRYlQpZst1jGt-PF7Nbla9AoI4B1trJi5gHkOq6RnMjTwgREMAvfwfasgLVOU0mLO-_AgY1j3EAYbsSJWyVQD_k-G_htG-NE-6c8ByMyF-R1CROkO5Hag2SC5Vk2OVw\n"
     ]
    }
   ],
   "source": [
    "token_json = response.json()['access_token']\n",
    "token = token_json['access_token']\n",
    "\n",
    "print(token)"
   ]
  },
  {
   "cell_type": "markdown",
   "metadata": {},
   "source": [
    "# Refresh token"
   ]
  },
  {
   "cell_type": "code",
   "execution_count": null,
   "metadata": {},
   "outputs": [],
   "source": [
    "refresh_url = \"https://accounts.spotify.com/api/token\"\n",
    "\n",
    "params = {\"grant_type\": \"refresh_token\",\n",
    "          \"refresh_token\": token_json['refresh_token']}\n",
    "\n",
    "data = {\"client_id\": client_id}\n",
    "\n",
    "headers = {\n",
    "     \"Content-Type\": \"application/x-www-form-urlencoded\",\n",
    "     \"Authorization\": \"Basic \" + encoded64\n",
    "}\n",
    "\n",
    "response = requests.post(token_url, params=params, headers=headers)\n",
    "\n",
    "print(response.status_code)\n",
    "print(response.json())"
   ]
  },
  {
   "cell_type": "code",
   "execution_count": null,
   "metadata": {},
   "outputs": [],
   "source": [
    "token_json = response.json()['access_token']\n",
    "token = token_json['access_token']"
   ]
  }
 ],
 "metadata": {
  "kernelspec": {
   "display_name": "Python 3 (ipykernel)",
   "language": "python",
   "name": "python3"
  },
  "language_info": {
   "codemirror_mode": {
    "name": "ipython",
    "version": 3
   },
   "file_extension": ".py",
   "mimetype": "text/x-python",
   "name": "python",
   "nbconvert_exporter": "python",
   "pygments_lexer": "ipython3",
   "version": "3.10.6"
  },
  "vscode": {
   "interpreter": {
    "hash": "916dbcbb3f70747c44a77c7bcd40155683ae19c65e1c03b4aa3499c5328201f1"
   }
  }
 },
 "nbformat": 4,
 "nbformat_minor": 2
}
