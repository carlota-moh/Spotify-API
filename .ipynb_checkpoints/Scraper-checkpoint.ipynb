{
 "cells": [
  {
   "cell_type": "markdown",
   "id": "ff561e44",
   "metadata": {},
   "source": [
    "# Description"
   ]
  },
  {
   "cell_type": "markdown",
   "id": "16f34f51",
   "metadata": {},
   "source": [
    "Now that we have succesfully created our playlist we want to populate it using the songs we want to. In order to do that we need to do some web scrapping. In particular, we want to be able to get the 100 top JPN songs and save them to a JSON object that we can use to save those songs to our newly-created playlist."
   ]
  },
  {
   "cell_type": "markdown",
   "id": "2729541b",
   "metadata": {},
   "source": [
    "# Workflow"
   ]
  },
  {
   "cell_type": "markdown",
   "id": "673145de",
   "metadata": {},
   "source": [
    "1. Get the information of the 100 most popular titles on the internet\n",
    "2. Get their Spotify IDs through calls to Spotify API\n",
    "3. Add them to the previously created Spotify list"
   ]
  },
  {
   "cell_type": "code",
   "execution_count": null,
   "id": "66d9be21",
   "metadata": {},
   "outputs": [],
   "source": []
  }
 ],
 "metadata": {
  "kernelspec": {
   "display_name": "Python 3 (ipykernel)",
   "language": "python",
   "name": "python3"
  },
  "language_info": {
   "codemirror_mode": {
    "name": "ipython",
    "version": 3
   },
   "file_extension": ".py",
   "mimetype": "text/x-python",
   "name": "python",
   "nbconvert_exporter": "python",
   "pygments_lexer": "ipython3",
   "version": "3.10.6"
  }
 },
 "nbformat": 4,
 "nbformat_minor": 5
}
